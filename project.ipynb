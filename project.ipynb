{
 "cells": [
  {
   "cell_type": "code",
   "execution_count": null,
   "id": "3da33d5b",
   "metadata": {},
   "outputs": [],
   "source": [
    "import cv2\n",
    "import mediapipe as mp\n",
    "\n",
    "cap = cv2.VideoCapture(0)\n",
    "\n",
    "mpHands = mp.solutions.hands\n",
    "hands = mpHands.Hands()\n",
    "\n",
    "mpFaceMesh = mp.solutions.face_mesh\n",
    "face_mesh = mpFaceMesh.FaceMesh()\n",
    "\n",
    "mpDraw = mp.solutions.drawing_utils\n",
    "\n",
    "while True:\n",
    "    success, image = cap.read()\n",
    "    imageRGB = cv2.cvtColor(image, cv2.COLOR_BGR2RGB)\n",
    "\n",
    "    # apply filters on face\n",
    "    face_results = face_mesh.process(imageRGB)\n",
    "    if face_results.multi_face_landmarks:\n",
    "        for faceLms in face_results.multi_face_landmarks:\n",
    "            mpDraw.draw_landmarks(image, faceLms, mpFaceMesh.FACEMESH_CONTOURS,\n",
    "                                  mpDraw.DrawingSpec(color=(255, 0, 0), thickness=1, circle_radius=1),\n",
    "                                  mpDraw.DrawingSpec(color=(0, 255, 0), thickness=1))\n",
    "\n",
    "    cv2.imshow(\"Output\", image)\n",
    "    if cv2.waitKey(1) == ord('q'):  # Press 'q' to exit the loop\n",
    "        break\n",
    "\n",
    "cv2.destroyAllWindows()\n"
   ]
  }
 ],
 "metadata": {
  "kernelspec": {
   "display_name": "Python 3 (ipykernel)",
   "language": "python",
   "name": "python3"
  },
  "language_info": {
   "codemirror_mode": {
    "name": "ipython",
    "version": 3
   },
   "file_extension": ".py",
   "mimetype": "text/x-python",
   "name": "python",
   "nbconvert_exporter": "python",
   "pygments_lexer": "ipython3",
   "version": "3.8.2"
  }
 },
 "nbformat": 4,
 "nbformat_minor": 5
}
